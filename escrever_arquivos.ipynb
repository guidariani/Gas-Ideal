{
 "cells": [
  {
   "cell_type": "code",
   "execution_count": null,
   "metadata": {},
   "outputs": [],
   "source": [
    "import serial\n",
    "\n",
    "\n",
    "# Lembrar de alterar o nome do arquivo sempre que iniciar um experimento novo\n",
    "NOME_DO_ARQUIVO = 'resultado.txt'\n",
    "\n",
    "# Usar aqui o mesmo valor da velocidade de comunicação usada para iniciar a\n",
    "# comunicação serial no Arduino\n",
    "BAUD_RATE = 9600\n",
    "\n",
    "# Alterar o nome da porta serial para a porta onde o Arduino está conectado\n",
    "PORTA_SERIAL = 'COM10'  # usar esta notação caso esteja no windows\n",
    "# PORTA_SERIAL = r'/dev/ttyACM0' # usar esta notação caso esteja no linux\n",
    "\n",
    "\n",
    "# loop infinito\n",
    "while True:\n",
    "\n",
    "    # iniciando comunicação serial\n",
    "    with serial.Serial(PORTA_SERIAL, BAUD_RATE) as pserial:\n",
    "\n",
    "        # lendo a porta serial, decodificando e limpando a string\n",
    "        line = pserial.readline().decode('utf-8').rstrip()\n",
    "\n",
    "        # exibindo a leitura da porta serial no terminal Python\n",
    "        print(line)\n",
    "\n",
    "        # escrevendo resultado em um arquivo\n",
    "        with open(NOME_DO_ARQUIVO, 'a') as arquivo:\n",
    "            arquivo.write(line + '\\n')"
   ]
  }
 ],
 "metadata": {
  "kernelspec": {
   "display_name": "ilumpy",
   "language": "python",
   "name": "ilumpy"
  },
  "language_info": {
   "codemirror_mode": {
    "name": "ipython",
    "version": 3
   },
   "file_extension": ".py",
   "mimetype": "text/x-python",
   "name": "python",
   "nbconvert_exporter": "python",
   "pygments_lexer": "ipython3",
   "version": "3.9.7"
  },
  "orig_nbformat": 4
 },
 "nbformat": 4,
 "nbformat_minor": 2
}
